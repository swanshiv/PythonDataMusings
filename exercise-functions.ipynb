{
 "cells": [
  {
   "cell_type": "markdown",
   "id": "de49a1e7",
   "metadata": {
    "papermill": {
     "duration": 0.006966,
     "end_time": "2023-08-31T15:46:12.438063",
     "exception": false,
     "start_time": "2023-08-31T15:46:12.431097",
     "status": "completed"
    },
    "tags": []
   },
   "source": [
    "**This notebook is an exercise in the [Intro to Programming](https://www.kaggle.com/learn/intro-to-programming) course.  You can reference the tutorial at [this link](https://www.kaggle.com/alexisbcook/functions).**\n",
    "\n",
    "---\n"
   ]
  },
  {
   "cell_type": "markdown",
   "id": "e88412e1",
   "metadata": {
    "papermill": {
     "duration": 0.006745,
     "end_time": "2023-08-31T15:46:12.451153",
     "exception": false,
     "start_time": "2023-08-31T15:46:12.444408",
     "status": "completed"
    },
    "tags": []
   },
   "source": [
    "In the tutorial, you learned about functions. In this exercise, you'll write some of your own!\n",
    "\n",
    "# Set up the notebook\n",
    "\n",
    "Run the next code cell without changes to set up the notebook."
   ]
  },
  {
   "cell_type": "code",
   "execution_count": 1,
   "id": "27be3357",
   "metadata": {
    "execution": {
     "iopub.execute_input": "2023-08-31T15:46:12.465337Z",
     "iopub.status.busy": "2023-08-31T15:46:12.464970Z",
     "iopub.status.idle": "2023-08-31T15:46:12.516176Z",
     "shell.execute_reply": "2023-08-31T15:46:12.515160Z"
    },
    "papermill": {
     "duration": 0.060864,
     "end_time": "2023-08-31T15:46:12.518145",
     "exception": false,
     "start_time": "2023-08-31T15:46:12.457281",
     "status": "completed"
    },
    "tags": []
   },
   "outputs": [
    {
     "name": "stdout",
     "output_type": "stream",
     "text": [
      "Setup complete.\n"
     ]
    }
   ],
   "source": [
    "# Set up the exercise\n",
    "import math\n",
    "from learntools.core import binder\n",
    "binder.bind(globals())\n",
    "from learntools.intro_to_programming.ex2 import *\n",
    "print('Setup complete.')"
   ]
  },
  {
   "cell_type": "markdown",
   "id": "190c580a",
   "metadata": {
    "papermill": {
     "duration": 0.0061,
     "end_time": "2023-08-31T15:46:12.530821",
     "exception": false,
     "start_time": "2023-08-31T15:46:12.524721",
     "status": "completed"
    },
    "tags": []
   },
   "source": [
    "# Question 1\n",
    "\n",
    "In the [House Prices - Advanced Regression Techniques competition](https://www.kaggle.com/c/house-prices-advanced-regression-techniques/overview), you need to use information like the number of bedrooms and bathrooms to predict the price of a house.  Inspired by this competition, you'll write your own function to do this.\n",
    "\n",
    "In the next code cell, create a function `get_expected_cost()` that has two arguments:\n",
    "- `beds` - number of bedrooms \n",
    "- `baths` - number of bathrooms\n",
    "\n",
    "It should return the expected cost of a house with that number of bedrooms and bathrooms.  Assume that:\n",
    "- the expected cost for a house with 0 bedrooms and 0 bathrooms is `80000`.  \n",
    "- each bedroom adds `30000` to the expected cost\n",
    "- each bathroom adds `10000` to the expected cost.\n",
    "\n",
    "For instance, \n",
    "- a house with 1 bedroom and 1 bathroom has an expected cost of `120000`, and \n",
    "- a house with 2 bedrooms and 1 bathroom has an expected cost of `150000`."
   ]
  },
  {
   "cell_type": "code",
   "execution_count": 2,
   "id": "5735533e",
   "metadata": {
    "execution": {
     "iopub.execute_input": "2023-08-31T15:46:12.546158Z",
     "iopub.status.busy": "2023-08-31T15:46:12.545615Z",
     "iopub.status.idle": "2023-08-31T15:46:12.554647Z",
     "shell.execute_reply": "2023-08-31T15:46:12.553006Z"
    },
    "papermill": {
     "duration": 0.019806,
     "end_time": "2023-08-31T15:46:12.557311",
     "exception": false,
     "start_time": "2023-08-31T15:46:12.537505",
     "status": "completed"
    },
    "tags": []
   },
   "outputs": [
    {
     "data": {
      "application/javascript": [
       "parent.postMessage({\"jupyterEvent\": \"custom.exercise_interaction\", \"data\": {\"outcomeType\": 1, \"valueTowardsCompletion\": 0.2, \"interactionType\": 1, \"questionType\": 2, \"questionId\": \"1_GetExpectedCost\", \"learnToolsVersion\": \"0.3.4\", \"failureMessage\": \"\", \"exceptionClass\": \"\", \"trace\": \"\"}}, \"*\")"
      ],
      "text/plain": [
       "<IPython.core.display.Javascript object>"
      ]
     },
     "metadata": {},
     "output_type": "display_data"
    },
    {
     "data": {
      "text/markdown": [
       "<span style=\"color:#33cc33\">Correct</span>"
      ],
      "text/plain": [
       "Correct"
      ]
     },
     "metadata": {},
     "output_type": "display_data"
    }
   ],
   "source": [
    "# TODO: Complete the function\n",
    "def get_expected_cost(beds, baths):\n",
    "    value = 80000 + (beds * 30000) + (baths * 10000)\n",
    "    return value\n",
    "\n",
    "# Check your answer \n",
    "q1.check()"
   ]
  },
  {
   "cell_type": "code",
   "execution_count": 3,
   "id": "72c473b0",
   "metadata": {
    "execution": {
     "iopub.execute_input": "2023-08-31T15:46:12.575509Z",
     "iopub.status.busy": "2023-08-31T15:46:12.574594Z",
     "iopub.status.idle": "2023-08-31T15:46:12.580895Z",
     "shell.execute_reply": "2023-08-31T15:46:12.578978Z"
    },
    "papermill": {
     "duration": 0.019268,
     "end_time": "2023-08-31T15:46:12.583724",
     "exception": false,
     "start_time": "2023-08-31T15:46:12.564456",
     "status": "completed"
    },
    "tags": []
   },
   "outputs": [],
   "source": [
    "# Uncomment to see a hint\n",
    "#q1.hint()\n",
    "\n",
    "# Uncomment to view the solution\n",
    "#q1.solution()"
   ]
  },
  {
   "cell_type": "markdown",
   "id": "be1e14ab",
   "metadata": {
    "papermill": {
     "duration": 0.006272,
     "end_time": "2023-08-31T15:46:12.596935",
     "exception": false,
     "start_time": "2023-08-31T15:46:12.590663",
     "status": "completed"
    },
    "tags": []
   },
   "source": [
    "# Question 2\n",
    "\n",
    "You are thinking about buying a home and want to get an idea of how much you will spend, based on the number of bedrooms and bathrooms.  You are trying to decide between four different options:\n",
    "- Option 1: house with two bedrooms and three bathrooms\n",
    "- Option 2: house with three bedrooms and two bathrooms\n",
    "- Option 3: house with three bedrooms and three bathrooms\n",
    "- Option 4: house with three bedrooms and four bathrooms\n",
    "\n",
    "Use the `get_expected_cost()` function you defined in question 1 to set `option_1`, `option_2`, `option_3`, and `option_4` to the expected cost of each option."
   ]
  },
  {
   "cell_type": "code",
   "execution_count": 4,
   "id": "cad0b4fb",
   "metadata": {
    "execution": {
     "iopub.execute_input": "2023-08-31T15:46:12.611350Z",
     "iopub.status.busy": "2023-08-31T15:46:12.610987Z",
     "iopub.status.idle": "2023-08-31T15:46:12.622107Z",
     "shell.execute_reply": "2023-08-31T15:46:12.621431Z"
    },
    "papermill": {
     "duration": 0.020607,
     "end_time": "2023-08-31T15:46:12.623971",
     "exception": false,
     "start_time": "2023-08-31T15:46:12.603364",
     "status": "completed"
    },
    "tags": []
   },
   "outputs": [
    {
     "name": "stdout",
     "output_type": "stream",
     "text": [
      "170000\n",
      "190000\n",
      "200000\n",
      "210000\n"
     ]
    },
    {
     "data": {
      "application/javascript": [
       "parent.postMessage({\"jupyterEvent\": \"custom.exercise_interaction\", \"data\": {\"outcomeType\": 1, \"valueTowardsCompletion\": 0.2, \"interactionType\": 1, \"questionType\": 1, \"questionId\": \"2_RunGetExpectedCost\", \"learnToolsVersion\": \"0.3.4\", \"failureMessage\": \"\", \"exceptionClass\": \"\", \"trace\": \"\"}}, \"*\")"
      ],
      "text/plain": [
       "<IPython.core.display.Javascript object>"
      ]
     },
     "metadata": {},
     "output_type": "display_data"
    },
    {
     "data": {
      "text/markdown": [
       "<span style=\"color:#33cc33\">Correct</span>"
      ],
      "text/plain": [
       "Correct"
      ]
     },
     "metadata": {},
     "output_type": "display_data"
    }
   ],
   "source": [
    "# TODO: Use the get_expected_cost function to fill in each value\n",
    "option_one = get_expected_cost(2, 3)\n",
    "option_two = get_expected_cost(3, 2)\n",
    "option_three = get_expected_cost(3, 3)\n",
    "option_four = get_expected_cost(3, 4)\n",
    "\n",
    "print(option_one)\n",
    "print(option_two)\n",
    "print(option_three)\n",
    "print(option_four)\n",
    "\n",
    "# Check your answer\n",
    "q2.check()"
   ]
  },
  {
   "cell_type": "code",
   "execution_count": 5,
   "id": "8e1e1a34",
   "metadata": {
    "execution": {
     "iopub.execute_input": "2023-08-31T15:46:12.640093Z",
     "iopub.status.busy": "2023-08-31T15:46:12.639077Z",
     "iopub.status.idle": "2023-08-31T15:46:12.642858Z",
     "shell.execute_reply": "2023-08-31T15:46:12.642198Z"
    },
    "papermill": {
     "duration": 0.013681,
     "end_time": "2023-08-31T15:46:12.644674",
     "exception": false,
     "start_time": "2023-08-31T15:46:12.630993",
     "status": "completed"
    },
    "tags": []
   },
   "outputs": [],
   "source": [
    "# Uncomment to see a hint\n",
    "#q2.hint()\n",
    "\n",
    "# Uncomment to view the solution\n",
    "#q2.solution()"
   ]
  },
  {
   "cell_type": "markdown",
   "id": "aee8c1b3",
   "metadata": {
    "papermill": {
     "duration": 0.006432,
     "end_time": "2023-08-31T15:46:12.658310",
     "exception": false,
     "start_time": "2023-08-31T15:46:12.651878",
     "status": "completed"
    },
    "tags": []
   },
   "source": [
    "# Question 3\n",
    "\n",
    "You're a home decorator, and you'd like to use Python to streamline some of your work.  Specifically, you're creating a tool that you intend to use to calculate the cost of painting a room.\n",
    "\n",
    "As a first step, define a function `get_cost()` that takes as input:\n",
    "- `sqft_walls` = total square feet of walls to be painted\n",
    "- `sqft_ceiling` = square feet of ceiling to be painted\n",
    "- `sqft_per_gallon` = number of square feet that you can cover with one gallon of paint\n",
    "- `cost_per_gallon` = cost (in dollars) of one gallon of paint\n",
    "\n",
    "It should return the cost (in dollars) of putting one coat of paint on all walls and the ceiling.  Assume you can buy the exact amount of paint that you need, so you can buy partial gallons (e.g., if you need 7.523 gallons, you can buy that exact amount, instead of needing to buy 8 gallons and waste some paint).  Do not round your answer."
   ]
  },
  {
   "cell_type": "code",
   "execution_count": 6,
   "id": "65432227",
   "metadata": {
    "execution": {
     "iopub.execute_input": "2023-08-31T15:46:12.674908Z",
     "iopub.status.busy": "2023-08-31T15:46:12.673646Z",
     "iopub.status.idle": "2023-08-31T15:46:12.683773Z",
     "shell.execute_reply": "2023-08-31T15:46:12.682413Z"
    },
    "papermill": {
     "duration": 0.020684,
     "end_time": "2023-08-31T15:46:12.686121",
     "exception": false,
     "start_time": "2023-08-31T15:46:12.665437",
     "status": "completed"
    },
    "tags": []
   },
   "outputs": [
    {
     "data": {
      "application/javascript": [
       "parent.postMessage({\"jupyterEvent\": \"custom.exercise_interaction\", \"data\": {\"outcomeType\": 1, \"valueTowardsCompletion\": 0.2, \"interactionType\": 1, \"questionType\": 2, \"questionId\": \"3_GetCostPaint\", \"learnToolsVersion\": \"0.3.4\", \"failureMessage\": \"\", \"exceptionClass\": \"\", \"trace\": \"\"}}, \"*\")"
      ],
      "text/plain": [
       "<IPython.core.display.Javascript object>"
      ]
     },
     "metadata": {},
     "output_type": "display_data"
    },
    {
     "data": {
      "text/markdown": [
       "<span style=\"color:#33cc33\">Correct</span>"
      ],
      "text/plain": [
       "Correct"
      ]
     },
     "metadata": {},
     "output_type": "display_data"
    }
   ],
   "source": [
    "# TODO: Finish defining the function\n",
    "def get_cost(sqft_walls, sqft_ceiling, sqft_per_gallon, cost_per_gallon):\n",
    "    cost = ((sqft_walls + sqft_ceiling) / sqft_per_gallon) * cost_per_gallon\n",
    "    return cost\n",
    "\n",
    "# Check your answer\n",
    "q3.check()"
   ]
  },
  {
   "cell_type": "code",
   "execution_count": 7,
   "id": "e7c1f496",
   "metadata": {
    "execution": {
     "iopub.execute_input": "2023-08-31T15:46:12.702080Z",
     "iopub.status.busy": "2023-08-31T15:46:12.701666Z",
     "iopub.status.idle": "2023-08-31T15:46:12.706529Z",
     "shell.execute_reply": "2023-08-31T15:46:12.705589Z"
    },
    "papermill": {
     "duration": 0.015671,
     "end_time": "2023-08-31T15:46:12.709000",
     "exception": false,
     "start_time": "2023-08-31T15:46:12.693329",
     "status": "completed"
    },
    "tags": []
   },
   "outputs": [],
   "source": [
    "# Uncomment to see a hint\n",
    "#q3.hint()\n",
    "\n",
    "# Uncomment to view the solution\n",
    "#q3.solution()"
   ]
  },
  {
   "cell_type": "markdown",
   "id": "5549bf52",
   "metadata": {
    "papermill": {
     "duration": 0.006923,
     "end_time": "2023-08-31T15:46:12.723332",
     "exception": false,
     "start_time": "2023-08-31T15:46:12.716409",
     "status": "completed"
    },
    "tags": []
   },
   "source": [
    "# Question 4\n",
    "\n",
    "Use the `get_cost()` function you defined in Question 3 to calculate the cost of applying one coat of paint to a room with:\n",
    "- 432 square feet of walls, and\n",
    "- 144 square feet of ceiling.\n",
    "\n",
    "Assume that one gallon of paint covers 400 square feet and costs $15.  As in Question 3, assume you can buy partial gallons of paint.  Do not round your answer."
   ]
  },
  {
   "cell_type": "code",
   "execution_count": 8,
   "id": "1f67a91e",
   "metadata": {
    "execution": {
     "iopub.execute_input": "2023-08-31T15:46:12.739333Z",
     "iopub.status.busy": "2023-08-31T15:46:12.738938Z",
     "iopub.status.idle": "2023-08-31T15:46:12.747291Z",
     "shell.execute_reply": "2023-08-31T15:46:12.746419Z"
    },
    "papermill": {
     "duration": 0.019165,
     "end_time": "2023-08-31T15:46:12.749634",
     "exception": false,
     "start_time": "2023-08-31T15:46:12.730469",
     "status": "completed"
    },
    "tags": []
   },
   "outputs": [
    {
     "data": {
      "application/javascript": [
       "parent.postMessage({\"jupyterEvent\": \"custom.exercise_interaction\", \"data\": {\"outcomeType\": 1, \"valueTowardsCompletion\": 0.2, \"interactionType\": 1, \"questionType\": 1, \"questionId\": \"4_GetCostPaintExample\", \"learnToolsVersion\": \"0.3.4\", \"failureMessage\": \"\", \"exceptionClass\": \"\", \"trace\": \"\"}}, \"*\")"
      ],
      "text/plain": [
       "<IPython.core.display.Javascript object>"
      ]
     },
     "metadata": {},
     "output_type": "display_data"
    },
    {
     "data": {
      "text/markdown": [
       "<span style=\"color:#33cc33\">Correct</span>"
      ],
      "text/plain": [
       "Correct"
      ]
     },
     "metadata": {},
     "output_type": "display_data"
    }
   ],
   "source": [
    "# TODO: Set the project_cost variable to the cost of the project\n",
    "project_cost = get_cost(432, 144, 400, 15)\n",
    "\n",
    "# Check your answer\n",
    "q4.check()"
   ]
  },
  {
   "cell_type": "code",
   "execution_count": 9,
   "id": "a9c8fa90",
   "metadata": {
    "execution": {
     "iopub.execute_input": "2023-08-31T15:46:12.767054Z",
     "iopub.status.busy": "2023-08-31T15:46:12.766628Z",
     "iopub.status.idle": "2023-08-31T15:46:12.771665Z",
     "shell.execute_reply": "2023-08-31T15:46:12.770623Z"
    },
    "papermill": {
     "duration": 0.016447,
     "end_time": "2023-08-31T15:46:12.773954",
     "exception": false,
     "start_time": "2023-08-31T15:46:12.757507",
     "status": "completed"
    },
    "tags": []
   },
   "outputs": [],
   "source": [
    "# Uncomment to see a hint\n",
    "#q4.hint()\n",
    "\n",
    "# Uncomment to view the solution\n",
    "#q4.solution()"
   ]
  },
  {
   "cell_type": "markdown",
   "id": "dea00f1f",
   "metadata": {
    "papermill": {
     "duration": 0.007256,
     "end_time": "2023-08-31T15:46:12.789243",
     "exception": false,
     "start_time": "2023-08-31T15:46:12.781987",
     "status": "completed"
    },
    "tags": []
   },
   "source": [
    "# 🌶️ Question 5\n",
    "\n",
    "Now say you can no longer buy fractions of a gallon.  (For instance, if you need 4.3 gallons to do a project, then you have to buy 5 gallons of paint.)\n",
    "\n",
    "With this new scenario, you will create a new function `get_actual_cost` that uses the same inputs and calculates the cost of your project.\n",
    "\n",
    "One function that you'll need to use to do this is `math.ceil()`.  We demonstrate usage of this function in the code cell below.  It takes as a number as input and rounds the number up to the nearest integer.  \n",
    "\n",
    "Run the next code cell to test this function for yourself.  Feel free to change the value of `test_value` and make sure `math.ceil()` returns the number you expect."
   ]
  },
  {
   "cell_type": "code",
   "execution_count": 10,
   "id": "b44c7be6",
   "metadata": {
    "execution": {
     "iopub.execute_input": "2023-08-31T15:46:12.806059Z",
     "iopub.status.busy": "2023-08-31T15:46:12.805746Z",
     "iopub.status.idle": "2023-08-31T15:46:12.810430Z",
     "shell.execute_reply": "2023-08-31T15:46:12.809041Z"
    },
    "papermill": {
     "duration": 0.016146,
     "end_time": "2023-08-31T15:46:12.812991",
     "exception": false,
     "start_time": "2023-08-31T15:46:12.796845",
     "status": "completed"
    },
    "tags": []
   },
   "outputs": [
    {
     "name": "stdout",
     "output_type": "stream",
     "text": [
      "3\n"
     ]
    }
   ],
   "source": [
    "test_value = 2.17\n",
    "\n",
    "rounded_value = math.ceil(test_value)\n",
    "print(rounded_value)"
   ]
  },
  {
   "cell_type": "markdown",
   "id": "45544848",
   "metadata": {
    "papermill": {
     "duration": 0.007446,
     "end_time": "2023-08-31T15:46:12.828277",
     "exception": false,
     "start_time": "2023-08-31T15:46:12.820831",
     "status": "completed"
    },
    "tags": []
   },
   "source": [
    "Use the next code cell to define the function `get_actual_cost()`.  You'll need to use the `math.ceil()` function to do this.\n",
    "\n",
    "When answering this question, note that it's completely valid to define a function that makes use of another function.  For instance, we can define a function `round_up_and_divide_by_three` that makes use of the `math.ceil` function:\n",
    "```\n",
    "def round_up_and_divide_by_three(num):\n",
    "    new_value = math.ceil(num)\n",
    "    final_value = new_value / 3\n",
    "    return final_value\n",
    "```"
   ]
  },
  {
   "cell_type": "code",
   "execution_count": 11,
   "id": "3dc5ebaf",
   "metadata": {
    "execution": {
     "iopub.execute_input": "2023-08-31T15:46:12.845718Z",
     "iopub.status.busy": "2023-08-31T15:46:12.845352Z",
     "iopub.status.idle": "2023-08-31T15:46:12.854575Z",
     "shell.execute_reply": "2023-08-31T15:46:12.853623Z"
    },
    "papermill": {
     "duration": 0.020543,
     "end_time": "2023-08-31T15:46:12.856611",
     "exception": false,
     "start_time": "2023-08-31T15:46:12.836068",
     "status": "completed"
    },
    "tags": []
   },
   "outputs": [
    {
     "data": {
      "application/javascript": [
       "parent.postMessage({\"jupyterEvent\": \"custom.exercise_interaction\", \"data\": {\"outcomeType\": 1, \"valueTowardsCompletion\": 0.2, \"interactionType\": 1, \"questionType\": 2, \"questionId\": \"5_NoMoreFractions\", \"learnToolsVersion\": \"0.3.4\", \"failureMessage\": \"\", \"exceptionClass\": \"\", \"trace\": \"\"}}, \"*\")"
      ],
      "text/plain": [
       "<IPython.core.display.Javascript object>"
      ]
     },
     "metadata": {},
     "output_type": "display_data"
    },
    {
     "data": {
      "text/markdown": [
       "<span style=\"color:#33cc33\">Correct</span>"
      ],
      "text/plain": [
       "Correct"
      ]
     },
     "metadata": {},
     "output_type": "display_data"
    }
   ],
   "source": [
    "def get_actual_cost(sqft_walls, sqft_ceiling, sqft_per_gallon, cost_per_gallon):\n",
    "    cost = math.ceil(((sqft_walls + sqft_ceiling) / sqft_per_gallon)) * cost_per_gallon\n",
    "    return cost\n",
    "\n",
    "# Check your answer\n",
    "q5.check()"
   ]
  },
  {
   "cell_type": "code",
   "execution_count": 12,
   "id": "2a2b957c",
   "metadata": {
    "execution": {
     "iopub.execute_input": "2023-08-31T15:46:12.873919Z",
     "iopub.status.busy": "2023-08-31T15:46:12.873536Z",
     "iopub.status.idle": "2023-08-31T15:46:12.880455Z",
     "shell.execute_reply": "2023-08-31T15:46:12.879555Z"
    },
    "papermill": {
     "duration": 0.018588,
     "end_time": "2023-08-31T15:46:12.882948",
     "exception": false,
     "start_time": "2023-08-31T15:46:12.864360",
     "status": "completed"
    },
    "tags": []
   },
   "outputs": [
    {
     "data": {
      "application/javascript": [
       "parent.postMessage({\"jupyterEvent\": \"custom.exercise_interaction\", \"data\": {\"interactionType\": 2, \"questionType\": 2, \"questionId\": \"5_NoMoreFractions\", \"learnToolsVersion\": \"0.3.4\", \"valueTowardsCompletion\": 0.0, \"failureMessage\": \"\", \"exceptionClass\": \"\", \"trace\": \"\", \"outcomeType\": 4}}, \"*\")"
      ],
      "text/plain": [
       "<IPython.core.display.Javascript object>"
      ]
     },
     "metadata": {},
     "output_type": "display_data"
    },
    {
     "data": {
      "text/markdown": [
       "<span style=\"color:#3366cc\">Hint:</span> Begin with the `get_cost()` function as a starting point.  The only change you need to make is to add `math.ceil()` to round up the number of gallons that need to be purchased. Can you figure out where to add it to the function?"
      ],
      "text/plain": [
       "Hint: Begin with the `get_cost()` function as a starting point.  The only change you need to make is to add `math.ceil()` to round up the number of gallons that need to be purchased. Can you figure out where to add it to the function?"
      ]
     },
     "metadata": {},
     "output_type": "display_data"
    }
   ],
   "source": [
    "# Uncomment to see a hint\n",
    "q5.hint()\n",
    "\n",
    "# Uncomment to view the solution\n",
    "#q5.solution()"
   ]
  },
  {
   "cell_type": "markdown",
   "id": "34022a3e",
   "metadata": {
    "papermill": {
     "duration": 0.007886,
     "end_time": "2023-08-31T15:46:12.899113",
     "exception": false,
     "start_time": "2023-08-31T15:46:12.891227",
     "status": "completed"
    },
    "tags": []
   },
   "source": [
    "Once your function is verified as correct, run the next code cell to calculate the updated cost of your project."
   ]
  },
  {
   "cell_type": "code",
   "execution_count": 13,
   "id": "d7159323",
   "metadata": {
    "execution": {
     "iopub.execute_input": "2023-08-31T15:46:12.916971Z",
     "iopub.status.busy": "2023-08-31T15:46:12.916643Z",
     "iopub.status.idle": "2023-08-31T15:46:12.922173Z",
     "shell.execute_reply": "2023-08-31T15:46:12.921332Z"
    },
    "papermill": {
     "duration": 0.017165,
     "end_time": "2023-08-31T15:46:12.924443",
     "exception": false,
     "start_time": "2023-08-31T15:46:12.907278",
     "status": "completed"
    },
    "tags": []
   },
   "outputs": [
    {
     "data": {
      "text/plain": [
       "30"
      ]
     },
     "execution_count": 13,
     "metadata": {},
     "output_type": "execute_result"
    }
   ],
   "source": [
    "get_actual_cost(432, 144, 400, 15) "
   ]
  },
  {
   "cell_type": "markdown",
   "id": "6d541457",
   "metadata": {
    "papermill": {
     "duration": 0.007844,
     "end_time": "2023-08-31T15:46:12.940400",
     "exception": false,
     "start_time": "2023-08-31T15:46:12.932556",
     "status": "completed"
    },
    "tags": []
   },
   "source": [
    "Say you're working with a slightly larger room.  Run the next code cell to calculate the cost of the project."
   ]
  },
  {
   "cell_type": "code",
   "execution_count": 14,
   "id": "2744a56d",
   "metadata": {
    "execution": {
     "iopub.execute_input": "2023-08-31T15:46:12.958026Z",
     "iopub.status.busy": "2023-08-31T15:46:12.957093Z",
     "iopub.status.idle": "2023-08-31T15:46:12.963262Z",
     "shell.execute_reply": "2023-08-31T15:46:12.962587Z"
    },
    "papermill": {
     "duration": 0.016911,
     "end_time": "2023-08-31T15:46:12.964984",
     "exception": false,
     "start_time": "2023-08-31T15:46:12.948073",
     "status": "completed"
    },
    "tags": []
   },
   "outputs": [
    {
     "data": {
      "text/plain": [
       "45"
      ]
     },
     "execution_count": 14,
     "metadata": {},
     "output_type": "execute_result"
    }
   ],
   "source": [
    "get_actual_cost(594, 288, 400, 15) "
   ]
  },
  {
   "cell_type": "markdown",
   "id": "59d0a393",
   "metadata": {
    "papermill": {
     "duration": 0.008013,
     "end_time": "2023-08-31T15:46:12.981457",
     "exception": false,
     "start_time": "2023-08-31T15:46:12.973444",
     "status": "completed"
    },
    "tags": []
   },
   "source": [
    "# Keep going\n",
    "\n",
    "Continue to learn about **[data types](https://www.kaggle.com/alexisbcook/data-types)**."
   ]
  },
  {
   "cell_type": "markdown",
   "id": "7e8ed1c7",
   "metadata": {
    "papermill": {
     "duration": 0.007962,
     "end_time": "2023-08-31T15:46:12.997448",
     "exception": false,
     "start_time": "2023-08-31T15:46:12.989486",
     "status": "completed"
    },
    "tags": []
   },
   "source": [
    "---\n",
    "\n",
    "\n",
    "\n",
    "\n",
    "*Have questions or comments? Visit the [course discussion forum](https://www.kaggle.com/learn/intro-to-programming/discussion) to chat with other learners.*"
   ]
  }
 ],
 "kernelspec": {
  "display_name": "Python 3",
  "language": "python",
  "name": "python3"
 },
 "language_info": {
  "codemirror_mode": {
   "name": "ipython",
   "version": 3
  },
  "file_extension": ".py",
  "mimetype": "text/x-python",
  "name": "python",
  "nbconvert_exporter": "python",
  "pygments_lexer": "ipython3",
  "version": "3.6.4"
 },
 "metadata": {
  "kernelspec": {
   "display_name": "Python 3",
   "language": "python",
   "name": "python3"
  },
  "language_info": {
   "codemirror_mode": {
    "name": "ipython",
    "version": 3
   },
   "file_extension": ".py",
   "mimetype": "text/x-python",
   "name": "python",
   "nbconvert_exporter": "python",
   "pygments_lexer": "ipython3",
   "version": "3.10.12"
  },
  "papermill": {
   "default_parameters": {},
   "duration": 10.541802,
   "end_time": "2023-08-31T15:46:13.927027",
   "environment_variables": {},
   "exception": null,
   "input_path": "__notebook__.ipynb",
   "output_path": "__notebook__.ipynb",
   "parameters": {},
   "start_time": "2023-08-31T15:46:03.385225",
   "version": "2.4.0"
  }
 },
 "nbformat": 4,
 "nbformat_minor": 5
}
